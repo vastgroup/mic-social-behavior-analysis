{
 "cells": [
  {
   "cell_type": "code",
   "execution_count": 1,
   "metadata": {},
   "outputs": [],
   "source": [
    "import pandas as pd \n",
    "import matplotlib.pyplot as plt\n",
    "import seaborn as sns\n",
    "import numpy as np\n",
    "from constants import TRAJECTORYTOOLS_INDIV_VARS_FILE_PATH, TR_INDIV_VARS_BOXPLOTS_FILE_PATH\n",
    "from trajectorytools.export import INDIVIDUAL_VARIALBES\n",
    "from ipywidgets import interact\n",
    "from plotters import _plot_line_variables"
   ]
  },
  {
   "cell_type": "code",
   "execution_count": 2,
   "metadata": {},
   "outputs": [],
   "source": [
    "tr_indivs = pd.read_pickle(TRAJECTORYTOOLS_INDIV_VARS_FILE_PATH)\n",
    "tr_indivs['line'] = tr_indivs['gene'] + '_' + tr_indivs['founder'].astype(str)\n",
    "tr_indivs = tr_indivs[tr_indivs.experiment_type == 1]"
   ]
  },
  {
   "cell_type": "code",
   "execution_count": 3,
   "metadata": {},
   "outputs": [],
   "source": [
    "individual_variables_names = [var_['name'] for var_ in INDIVIDUAL_VARIALBES]\n",
    "agg_rule = {col: 'mean' if col != 'distance_travelled' else 'max' for col in tr_indivs.columns if col in individual_variables_names}"
   ]
  },
  {
   "cell_type": "code",
   "execution_count": 4,
   "metadata": {},
   "outputs": [],
   "source": [
    "tr_indivs_indiv_stat = tr_indivs.groupby(['trial_uid', 'identity', 'genotype_group', 'genotype', 'line', 'replicate']).agg(agg_rule)\n",
    "tr_indivs_indiv_stat.reset_index(inplace=True)\n",
    "lines = tr_indivs_indiv_stat.line.unique()\n",
    "variables = [\n",
    "    'distance_to_origin', \n",
    "    'speed', \n",
    "    'acceleration', \n",
    "    'abs_normal_acceleration', \n",
    "    'abs_tg_acceleration',\n",
    "    'local_polarization',\n",
    "    'distance_to_center_of_group',\n",
    "    'distance_travelled',\n",
    "]"
   ]
  },
  {
   "cell_type": "code",
   "execution_count": 5,
   "metadata": {},
   "outputs": [
    {
     "data": {
      "application/vnd.jupyter.widget-view+json": {
       "model_id": "ca68eedfe5c84a688962e156403f28ea",
       "version_major": 2,
       "version_minor": 0
      },
      "text/plain": [
       "interactive(children=(Dropdown(description='line', options=('ap1g1_1', 'apbb1_1', 'asap1b_7', 'cdon_1', 'evi5b…"
      ]
     },
     "metadata": {},
     "output_type": "display_data"
    }
   ],
   "source": [
    "@interact(\n",
    "    line=lines, \n",
    ")\n",
    "def plot_attention_map(\n",
    "    line=lines[0], \n",
    "):  \n",
    "    fig, axs = plt.subplots(1, len(variables), figsize=(30,5), num=1)\n",
    "    plt.subplots_adjust(wspace=0.4)\n",
    "    _plot_line_variables(axs, tr_indivs_indiv_stat, line, variables)"
   ]
  },
  {
   "cell_type": "code",
   "execution_count": null,
   "metadata": {},
   "outputs": [],
   "source": [
    "data = tr_indivs_indiv_stat[tr_indivs_indiv_stat.line == 'ap1g1_1']\n",
    "data.shape\n"
   ]
  },
  {
   "cell_type": "code",
   "execution_count": null,
   "metadata": {},
   "outputs": [],
   "source": [
    "from permutation_stats import permutation_test\n",
    "\n",
    "groups = list(g.groups.keys())\n",
    "\n",
    "groups = [\n",
    "    (('HET_HET', 'HET'), ('HET_DEL', 'HET')),\n",
    "    (('HET_DEL', 'DEL'), ('DEL_DEL', 'DEL')),\n",
    "    (('HET_HET', 'HET'), ('DEL_DEL', 'DEL')),\n",
    "]\n",
    "\n",
    "\n",
    "for group_a, group_b in groups:\n",
    "    print(group_a, group_b)\n",
    "    a = g.get_group(group_a)['speed'].values\n",
    "    b = g.get_group(group_b)['speed'].values\n",
    "    p_value, diff_value = permutation_test(\n",
    "        a,\n",
    "        b,\n",
    "        repetitions = 10000,\n",
    "        stat_func = np.mean,\n",
    "        paired = False,\n",
    "        two_sided = False,\n",
    "    )\n",
    "    print(p_value, diff_value)"
   ]
  },
  {
   "cell_type": "code",
   "execution_count": null,
   "metadata": {},
   "outputs": [],
   "source": [
    "import itertools\n",
    "list(itertools.combinations(g.groups.keys(), 2))"
   ]
  },
  {
   "cell_type": "code",
   "execution_count": null,
   "metadata": {},
   "outputs": [],
   "source": [
    "fig, axs = plt.subplots(len(lines), len(variables), figsize=(30, 5 * len(lines)))\n",
    "plt.subplots_adjust(wspace=0.4, hspace=.5)\n",
    "for axs_row, line in zip(axs, lines):\n",
    "    _plot_line_variables(axs_row, tr_indivs_indiv_stat, line, variables)\n",
    "fig.savefig(TR_INDIV_VARS_BOXPLOTS_FILE_PATH, transparent=False)\n",
    "fig.savefig(TR_INDIV_VARS_BOXPLOTS_FILE_PATH.replace('.pdf', '.png'), transparent=False)"
   ]
  }
 ],
 "metadata": {
  "interpreter": {
   "hash": "ee5f94f73d9a285083cc4157e10c41f6d227f888b6fc0c8a99d986f15356966b"
  },
  "kernelspec": {
   "display_name": "Python 3.7.11 64-bit ('irimialab': conda)",
   "language": "python",
   "name": "python3"
  },
  "language_info": {
   "codemirror_mode": {
    "name": "ipython",
    "version": 3
   },
   "file_extension": ".py",
   "mimetype": "text/x-python",
   "name": "python",
   "nbconvert_exporter": "python",
   "pygments_lexer": "ipython3",
   "version": "3.7.11"
  },
  "orig_nbformat": 4
 },
 "nbformat": 4,
 "nbformat_minor": 2
}
