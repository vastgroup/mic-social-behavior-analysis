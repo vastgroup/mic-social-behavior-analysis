{
 "cells": [],
 "metadata": {
  "interpreter": {
   "hash": "ee5f94f73d9a285083cc4157e10c41f6d227f888b6fc0c8a99d986f15356966b"
  },
  "kernelspec": {
   "display_name": "Python 3.7.11 64-bit ('irimialab': conda)",
   "language": "python",
   "name": "python3"
  },
  "language_info": {
   "codemirror_mode": {
    "name": "ipython",
    "version": 3
   },
   "file_extension": ".py",
   "mimetype": "text/x-python",
   "name": "python",
   "nbconvert_exporter": "python",
   "pygments_lexer": "ipython3",
   "version": "3.7.11"
  },
  "orig_nbformat": 4
 },
 "nbformat": 4,
 "nbformat_minor": 2
}
