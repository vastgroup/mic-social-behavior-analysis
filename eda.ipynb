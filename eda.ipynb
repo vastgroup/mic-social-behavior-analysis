{
 "cells": [
  {
   "cell_type": "code",
   "execution_count": 1,
   "metadata": {},
   "outputs": [],
   "source": [
    "%load_ext blackcellmagic\n",
    "%load_ext autoreload\n",
    "%autoreload 2"
   ]
  },
  {
   "cell_type": "markdown",
   "metadata": {},
   "source": [
    "# Imports"
   ]
  },
  {
   "cell_type": "code",
   "execution_count": 3,
   "metadata": {},
   "outputs": [],
   "source": [
    "import pandas as pd\n",
    "import numpy as np\n",
    "\n",
    "from ipywidgets import interact\n",
    "\n",
    "from natsort import natsorted\n",
    "\n",
    "from mic_analysis.datasets import TRAJECTORYTOOLS_DATASETS_INFO, get_data\n",
    "from mic_analysis.plotters import plot_summary_partition, plot_summary_animal, plot_summary_video\n",
    "from mic_analysis.variables import compute_variables_ranges"
   ]
  },
  {
   "cell_type": "markdown",
   "metadata": {},
   "source": [
    "# Constants"
   ]
  },
  {
   "cell_type": "code",
   "execution_count": 4,
   "metadata": {},
   "outputs": [],
   "source": [
    "data_filters = []"
   ]
  },
  {
   "cell_type": "markdown",
   "metadata": {},
   "source": [
    "# Load data"
   ]
  },
  {
   "cell_type": "code",
   "execution_count": 5,
   "metadata": {},
   "outputs": [
    {
     "name": "stderr",
     "output_type": "stream",
     "text": [
      "Loading data\n",
      "Loaded\n",
      "Normalizing replicates stats with respect to HET_HET\n",
      "/home/pacorofe/mic-social-behavior-analysis/mic_analysis/stats.py:280: UserWarning: Boolean Series key will be reindexed to match DataFrame index.\n",
      "  (data.genotype_group == normalizing_genotype_group)\n",
      "/home/pacorofe/mic-social-behavior-analysis/mic_analysis/stats.py:283: UserWarning: Boolean Series key will be reindexed to match DataFrame index.\n",
      "  (data.genotype_group == normalizing_genotype_group)\n",
      "Standardized\n",
      "Adding info columns\n",
      "Added\n",
      "Filtering data\n",
      "original shape (26493056, 80)\n",
      "Filtered\n",
      "Computting stats per individual\n",
      "Computed stats per individual\n"
     ]
    }
   ],
   "source": [
    "data_indiv, data_indiv_stats = get_data(\n",
    "    TRAJECTORYTOOLS_DATASETS_INFO[\"tr_indiv_bl\"][\"file_path\"],\n",
    "    data_filters=data_filters,\n",
    "    agg_stats_kwargs=TRAJECTORYTOOLS_DATASETS_INFO[\"tr_indiv_bl\"][\"agg_stats_kwargs\"],\n",
    ")"
   ]
  },
  {
   "cell_type": "code",
   "execution_count": 6,
   "metadata": {},
   "outputs": [
    {
     "name": "stderr",
     "output_type": "stream",
     "text": [
      "Loading data\n",
      "Loaded\n",
      "Normalizing replicates stats with respect to HET_HET\n",
      "/home/pacorofe/mic-social-behavior-analysis/mic_analysis/stats.py:280: UserWarning: Boolean Series key will be reindexed to match DataFrame index.\n",
      "  (data.genotype_group == normalizing_genotype_group)\n",
      "/home/pacorofe/mic-social-behavior-analysis/mic_analysis/stats.py:283: UserWarning: Boolean Series key will be reindexed to match DataFrame index.\n",
      "  (data.genotype_group == normalizing_genotype_group)\n",
      "Standardized\n",
      "Adding info columns\n",
      "Added\n",
      "Filtering data\n",
      "original shape (13246528, 20)\n",
      "Filtered\n",
      "Computting stats per individual\n",
      "Computed stats per individual\n"
     ]
    }
   ],
   "source": [
    "data_group, data_group_stats = get_data(\n",
    "    TRAJECTORYTOOLS_DATASETS_INFO[\"tr_group_bl\"][\"file_path\"],\n",
    "    data_filters=data_filters,\n",
    "    agg_stats_kwargs=TRAJECTORYTOOLS_DATASETS_INFO[\"tr_group_bl\"][\"agg_stats_kwargs\"],\n",
    ")"
   ]
  },
  {
   "cell_type": "code",
   "execution_count": 8,
   "metadata": {},
   "outputs": [
    {
     "name": "stderr",
     "output_type": "stream",
     "text": [
      "Loading data\n",
      "Loaded\n",
      "Normalizing replicates stats with respect to HET_HET\n",
      "/home/pacorofe/mic-social-behavior-analysis/mic_analysis/stats.py:280: UserWarning: Boolean Series key will be reindexed to match DataFrame index.\n",
      "  (data.genotype_group == normalizing_genotype_group)\n",
      "/home/pacorofe/mic-social-behavior-analysis/mic_analysis/stats.py:283: UserWarning: Boolean Series key will be reindexed to match DataFrame index.\n",
      "  (data.genotype_group == normalizing_genotype_group)\n",
      "Standardized\n",
      "Adding info columns\n",
      "Added\n",
      "Filtering data\n",
      "original shape (26492917, 38)\n",
      "Filtered\n",
      "Computting stats per individual\n",
      "Computed stats per individual\n"
     ]
    }
   ],
   "source": [
    "data_indiv_nb, data_indiv_nb_stats = get_data(\n",
    "    TRAJECTORYTOOLS_DATASETS_INFO[\"tr_indiv_nb_bl\"][\"file_path\"],\n",
    "    data_filters=data_filters,\n",
    "    agg_stats_kwargs=TRAJECTORYTOOLS_DATASETS_INFO[\"tr_indiv_nb_bl\"][\"agg_stats_kwargs\"],\n",
    ")"
   ]
  },
  {
   "cell_type": "code",
   "execution_count": 9,
   "metadata": {},
   "outputs": [],
   "source": [
    "datasets = {\n",
    "    \"data_indiv\": data_indiv,\n",
    "    \"data_indiv_stats\": data_indiv_stats,\n",
    "    \"data_group\": data_group,\n",
    "    \"data_group_stats\": data_group_stats,\n",
    "    \"data_indiv_nb\": data_indiv_nb,\n",
    "    \"data_indiv_nb_stats\": data_indiv_nb_stats\n",
    "}"
   ]
  },
  {
   "cell_type": "code",
   "execution_count": 14,
   "metadata": {},
   "outputs": [],
   "source": [
    "variables_ranges = compute_variables_ranges(datasets)"
   ]
  },
  {
   "cell_type": "markdown",
   "metadata": {},
   "source": [
    "# Single animal summary"
   ]
  },
  {
   "cell_type": "code",
   "execution_count": 15,
   "metadata": {},
   "outputs": [
    {
     "data": {
      "application/vnd.jupyter.widget-view+json": {
       "model_id": "6a62a53505f446ab8db7fbd57121c787",
       "version_major": 2,
       "version_minor": 0
      },
      "text/plain": [
       "interactive(children=(Dropdown(description='animal_uid', options=('ap1g1_1_1_1_1_0.0', 'ap1g1_1_1_1_1_1.0', 'a…"
      ]
     },
     "metadata": {},
     "output_type": "display_data"
    }
   ],
   "source": [
    "animal_col = 'trial_uid_id'\n",
    "possible_animals_uid = data_indiv[animal_col].unique()\n",
    "\n",
    "@interact(animal_uid=possible_animals_uid, y=1.0)\n",
    "def summary_animal(animal_uid, save=False):\n",
    "    assert animal_col in data_indiv.columns\n",
    "    if animal_uid in possible_animals_uid:\n",
    "        \n",
    "        plot_summary_animal(datasets, animal_col, animal_uid, variables_ranges, save=False)\n",
    "        \n",
    "    else:\n",
    "        print(f\"Animal {animal_uid} does not exist\")\n",
    "        print(\"Possible animals are\")\n",
    "        print(possible_animals_uid)"
   ]
  },
  {
   "cell_type": "markdown",
   "metadata": {},
   "source": [
    "# Video summary"
   ]
  },
  {
   "cell_type": "code",
   "execution_count": 16,
   "metadata": {},
   "outputs": [
    {
     "data": {
      "application/vnd.jupyter.widget-view+json": {
       "model_id": "3853875c3ab84c3fb7075a30572f1631",
       "version_major": 2,
       "version_minor": 0
      },
      "text/plain": [
       "interactive(children=(Dropdown(description='video_uid', options=('ap1g1_1_1_1_1', 'ap1g1_1_1_1_2', 'ap1g1_1_1_…"
      ]
     },
     "metadata": {},
     "output_type": "display_data"
    }
   ],
   "source": [
    "video_uid_col = 'trial_uid'\n",
    "possible_video_uids_in_group_vars = data_group[video_uid_col].unique()\n",
    "possible_video_uids_in_indiv_vars = data_indiv[video_uid_col].unique()\n",
    "possible_video_uids_in_indiv_nb_vars = data_indiv_nb[video_uid_col].unique()\n",
    "possible_video_uids = (\n",
    "    set(possible_video_uids_in_group_vars)\n",
    "    & set(possible_video_uids_in_indiv_vars)\n",
    "    & set(possible_video_uids_in_indiv_nb_vars)\n",
    ")\n",
    "possible_video_uids = natsorted(possible_video_uids)\n",
    "\n",
    "\n",
    "@interact(video_uid=possible_video_uids, save=False)\n",
    "def summary_video(video_uid, save=False):\n",
    "    assert video_uid_col in data_group.columns\n",
    "    if video_uid in possible_video_uids:\n",
    "        \n",
    "        plot_summary_video(datasets, video_uid_col, video_uid, animal_col, variables_ranges, save=save)\n",
    "        \n",
    "\n",
    "    else:\n",
    "        print(f\"Video {video_uid} does not exist\")\n",
    "        print(\"Possible videos are\")\n",
    "        print(possible_video_uids)"
   ]
  },
  {
   "cell_type": "markdown",
   "metadata": {},
   "source": [
    "# Partition summary"
   ]
  },
  {
   "cell_type": "code",
   "execution_count": 17,
   "metadata": {},
   "outputs": [
    {
     "data": {
      "application/vnd.jupyter.widget-view+json": {
       "model_id": "6900909a66d94b7ab3cc39216e389919",
       "version_major": 2,
       "version_minor": 0
      },
      "text/plain": [
       "interactive(children=(Dropdown(description='partition_uid', options=('ap1g1_1_1', 'apbb1_1_1', 'asap1b_7_1', '…"
      ]
     },
     "metadata": {},
     "output_type": "display_data"
    }
   ],
   "source": [
    "partition_col = 'line_experiment'\n",
    "possible_partition_uids = natsorted(data_group[partition_col].unique())\n",
    "\n",
    "@interact(partition_uid=possible_partition_uids, save=False)\n",
    "def summary_partition(partition_uid, save=False):\n",
    "    assert partition_col in data_group.columns\n",
    "    if partition_uid in possible_partition_uids:\n",
    "        plot_summary_partition(datasets, partition_col, partition_uid, variables_ranges, save=save)\n",
    "    else:\n",
    "        print(f\"Video {partition_uid} does not exist\")\n",
    "        print(\"Possible partition_uids are\")\n",
    "        print(possible_partition_uids)"
   ]
  },
  {
   "cell_type": "code",
   "execution_count": null,
   "metadata": {},
   "outputs": [],
   "source": []
  }
 ],
 "metadata": {
  "interpreter": {
   "hash": "ee5f94f73d9a285083cc4157e10c41f6d227f888b6fc0c8a99d986f15356966b"
  },
  "kernelspec": {
   "display_name": "Python 3.7.11 ('irimialab')",
   "language": "python",
   "name": "python3"
  },
  "language_info": {
   "codemirror_mode": {
    "name": "ipython",
    "version": 3
   },
   "file_extension": ".py",
   "mimetype": "text/x-python",
   "name": "python",
   "nbconvert_exporter": "python",
   "pygments_lexer": "ipython3",
   "version": "3.7.11"
  },
  "orig_nbformat": 4
 },
 "nbformat": 4,
 "nbformat_minor": 2
}
