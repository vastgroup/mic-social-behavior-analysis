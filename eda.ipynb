{
 "cells": [
  {
   "cell_type": "code",
   "execution_count": 19,
   "metadata": {},
   "outputs": [],
   "source": [
    "import pandas as pd \n",
    "import seaborn as sns \n",
    "import matplotlib.pyplot as plt\n",
    "\n",
    "from ipywidgets import interact\n",
    "from matplotlib.gridspec import GridSpec\n",
    "\n",
    "from plotters import _get_data\n",
    "from figures import mean_agg_rule_tr_indivs, mean_agg_rule_tr_group, mean_agg_rule_tr_indiv_nb\n",
    "\n",
    "from natsort import natsorted"
   ]
  },
  {
   "cell_type": "code",
   "execution_count": 2,
   "metadata": {},
   "outputs": [],
   "source": [
    "animal_uid_col = 'trial_uid_id'\n",
    "video_uid_col = 'trial_uid'\n",
    "\n",
    "animal_info_cols = [\n",
    "    'genotype',\n",
    "    'fish_id_exp',\n",
    "    'identity',\n",
    "    'dpf', \n",
    "    'size_cm', \n",
    "]\n",
    "\n",
    "video_info_cols = [\n",
    "    'experiment_type',\n",
    "    'gene',\n",
    "    'founder',\n",
    "    'replicate', \n",
    "    'genotype_group',\n",
    "]\n",
    "\n",
    "invididual_variables = ['normed_distance_to_origin', \"angular_position\", 'speed', 'acceleration']\n",
    "group_variables = ['mean_distance_to_center_of_group', 'polarization_order_parameter', 'rotation_order_parameter']\n",
    "individual_nb_variables = ['nb_angle', 'nb_cos_angle', 'nb_distance']"
   ]
  },
  {
   "cell_type": "code",
   "execution_count": 3,
   "metadata": {},
   "outputs": [],
   "source": [
    "def _get_info(data, info_cols):\n",
    "    info_str = \"\"\n",
    "    for info_col in info_cols:\n",
    "        assert info_col in data.columns\n",
    "        infos = data[info_col].unique()\n",
    "        assert len(set(infos)) == 1, set(infos)\n",
    "        info = str(infos[0])\n",
    "        info_str += f\"{info_col}: {info} - \"\n",
    "    info_str = info_str[:-3]\n",
    "    return info_str"
   ]
  },
  {
   "cell_type": "markdown",
   "metadata": {},
   "source": [
    "# Animal summary"
   ]
  },
  {
   "cell_type": "code",
   "execution_count": 4,
   "metadata": {},
   "outputs": [],
   "source": [
    "data_path_indiv_vars = \"/home/pacorofe/Dropbox (CRG ADV)/ZFISH_MICs/_BSocial/2022_ANALYSIS_social/generated_tables/tr_indiv_vars_bl.pkl\""
   ]
  },
  {
   "cell_type": "code",
   "execution_count": 5,
   "metadata": {},
   "outputs": [
    {
     "name": "stderr",
     "output_type": "stream",
     "text": [
      "Getting data\n",
      "Filtering data\n",
      "Filtering data\n",
      "original shape (26493056, 36)\n"
     ]
    },
    {
     "name": "stdout",
     "output_type": "stream",
     "text": [
      "['gli3' 'cdon' 'srrm3' 'evi5b' 'shank3a' 'vdac3' 'apbb1' 'shank3b' 'gli2b'\n",
      " 'srrm4' 'mef2ca' 'itsn1' 'vav2' 'vti1a' 'kif1b' 'madd' 'ap1g1' 'asap1b'\n",
      " 'src' 'reln']\n"
     ]
    },
    {
     "name": "stderr",
     "output_type": "stream",
     "text": [
      "(26205088, 36)\n",
      "(22209532, 36)\n",
      "Groupping data\n"
     ]
    },
    {
     "name": "stdout",
     "output_type": "stream",
     "text": [
      "(22209532, 36)\n",
      "['gli3' 'cdon' 'evi5b' 'shank3a' 'vdac3' 'apbb1' 'shank3b' 'gli2b'\n",
      " 'mef2ca' 'itsn1' 'vav2' 'vti1a' 'kif1b' 'madd' 'ap1g1' 'asap1b' 'src'\n",
      " 'reln']\n"
     ]
    }
   ],
   "source": [
    "data_filters = [\n",
    "    lambda x: x[\"experiment_type\"] == 1,\n",
    "    lambda x: ~x[\"gene\"].str.contains(\"srrm\"),\n",
    "]\n",
    "per_indiv_stasts_kwargs = {\n",
    "    \"groupby\": [\n",
    "        \"trial_uid\",\n",
    "        \"identity\",\n",
    "        \"genotype_group\",\n",
    "        \"genotype\",\n",
    "        \"line\",\n",
    "        \"line_replicate\",\n",
    "    ],\n",
    "    \"agg_rule\": mean_agg_rule_tr_indivs,\n",
    "}\n",
    "data_indiv, data_indiv_stats = _get_data(\n",
    "    data_path_indiv_vars,\n",
    "    data_filters=data_filters,\n",
    "    per_indiv_stats_kwargs=per_indiv_stasts_kwargs,  \n",
    ")"
   ]
  },
  {
   "cell_type": "code",
   "execution_count": 6,
   "metadata": {},
   "outputs": [],
   "source": [
    "from plotters import _boxplot_axes_one_variable\n",
    "\n",
    "def plot_trajectory(data, ax=None, hue=None):\n",
    "    if ax is None:\n",
    "        fig, ax = plt.subplots(1,1, figsize=(10,10))\n",
    "    assert 's_x' in data \n",
    "    assert 's_y' in data\n",
    "    if hue is not None:\n",
    "        cbar=False\n",
    "    else:\n",
    "        cbar=True\n",
    "    sns.histplot(ax=ax, data=data, x='s_x', y='s_y', cbar=cbar, hue=hue)\n",
    "    sns.lineplot(ax=ax, data=data, x='s_x', y='s_y', sort=False, hue=hue, alpha=.5, units=hue, estimator=None)\n",
    "    ax.set_aspect('equal')\n",
    "    ax.set_ylabel('y')\n",
    "    ax.set_xlabel('x')\n",
    "    sns.despine(ax=ax)\n",
    "    \n",
    "       \n",
    "def plot_variable_along_time(data, variable, ax=None, hue=None, units=None):\n",
    "    if ax is None:\n",
    "        fig, ax = plt.subplots(1,1, figsize=(30,10))\n",
    "    assert 'frame' in data \n",
    "    assert variable in data\n",
    "    if units is None:\n",
    "        units = hue\n",
    "    _boxplot_axes_one_variable(ax, data, variable, how='h', add_text=True)\n",
    "    sns.lineplot(ax=ax, data=data, x='frame', y=variable, alpha=.5, hue=hue, units=units, estimator=None)\n",
    "    sns.despine(ax=ax)\n",
    "    \n",
    "\n",
    "def plot_variable_1d_distribution(data, variable, ax=None, hue=None):\n",
    "    if ax is None:\n",
    "        fig, ax = plt.subplots(1,1, figsize=(30,10))\n",
    "    assert variable in data\n",
    "    _boxplot_axes_one_variable(ax, data, variable, how='h')\n",
    "    sns.histplot(ax=ax, data=data, y=variable, element='poly', fill=False, alpha=.5, hue=hue)\n",
    "    sns.despine(ax=ax)\n",
    "    \n",
    "\n",
    "\n",
    "def _prepare_indiv_fig_axes_summary(num_variables):\n",
    "    fig = plt.figure(constrained_layout=True, figsize=(30, 10))\n",
    "    num_cols = num_variables * 3\n",
    "    num_rows =num_variables\n",
    "    gs = GridSpec(num_rows, num_cols, figure=fig)\n",
    "    \n",
    "    ax_trajectories = fig.add_subplot(gs[:num_rows, :num_rows])\n",
    "    axs_variables = []\n",
    "    axs_distributions = []\n",
    "    for i in range(num_variables):\n",
    "        axs_variables.append(fig.add_subplot(gs[i:i+1, num_rows:num_cols-1]))\n",
    "        axs_distributions.append(fig.add_subplot(gs[i:i+1, num_cols-1:]))\n",
    "    return fig, ax_trajectories, axs_variables, axs_distributions\n",
    "\n",
    "\n",
    "def _plot_trajectory_and_variables_summary(animal_data, variables, hue=None):\n",
    "    fig, ax_trajectories, axs_variables, axs_distributions = _prepare_indiv_fig_axes_summary(len(variables))\n",
    "    plot_trajectory(animal_data, ax=ax_trajectories, hue=hue)\n",
    "    for variable, ax_time, ax_dist in zip(variables, axs_variables, axs_distributions):\n",
    "        plot_variable_along_time(animal_data, variable, ax=ax_time, hue=hue)\n",
    "        plot_variable_1d_distribution(animal_data, variable, ax=ax_dist, hue=hue)\n",
    "    return fig\n",
    "    \n",
    "    "
   ]
  },
  {
   "cell_type": "code",
   "execution_count": 7,
   "metadata": {},
   "outputs": [
    {
     "data": {
      "application/vnd.jupyter.widget-view+json": {
       "model_id": "1833648b06824e7baae4c34667c2d235",
       "version_major": 2,
       "version_minor": 0
      },
      "text/plain": [
       "interactive(children=(Dropdown(description='animal_uid', options=('gli3_7_2_1_4_0.0', 'gli3_7_2_1_4_1.0', 'gli…"
      ]
     },
     "metadata": {},
     "output_type": "display_data"
    }
   ],
   "source": [
    "def get_animal_info_str(animal_data, info_cols = animal_info_cols, video_info_cols=video_info_cols):\n",
    "    video_info = _get_info(animal_data, video_info_cols)\n",
    "    animal_info = _get_info(animal_data, info_cols)\n",
    "    return f\"{video_info} \\n {animal_info}\"\n",
    "    \n",
    "\n",
    "possible_animals_uid = data_indiv[animal_uid_col].unique()\n",
    "@interact(animal_uid=possible_animals_uid, y=1.0)\n",
    "def summary_animal(animal_uid, save=False):\n",
    "    assert animal_uid_col in data_indiv.columns\n",
    "    if animal_uid in possible_animals_uid:\n",
    "        animal_data = data_indiv[data_indiv[animal_uid_col] == animal_uid]\n",
    "        animal_info_str = get_animal_info_str(animal_data)\n",
    "        print(animal_info_str)\n",
    "        \n",
    "        \n",
    "        fig = _plot_trajectory_and_variables_summary(animal_data, invididual_variables)\n",
    "        if save:\n",
    "            fig.suptitle(animal_info_str)\n",
    "            fig.savefig(f\"{animal_uid}.png\")\n",
    "            fig.savefig(f\"{animal_uid}.pdf\")\n",
    "            \n",
    "    else:\n",
    "        print(f\"Animal {animal_uid} does not exist\")\n",
    "        print(\"Possible animals are\")\n",
    "        print(possible_animals_uid)"
   ]
  },
  {
   "cell_type": "markdown",
   "metadata": {},
   "source": [
    "# Video summary"
   ]
  },
  {
   "cell_type": "code",
   "execution_count": 8,
   "metadata": {},
   "outputs": [
    {
     "name": "stderr",
     "output_type": "stream",
     "text": [
      "Getting data\n",
      "Filtering data\n",
      "Filtering data\n",
      "original shape (13246528, 12)\n"
     ]
    },
    {
     "name": "stdout",
     "output_type": "stream",
     "text": [
      "['gli3' 'cdon' 'srrm3' 'evi5b' 'shank3a' 'vdac3' 'apbb1' 'shank3b' 'gli2b'\n",
      " 'srrm4' 'mef2ca' 'itsn1' 'vav2' 'vti1a' 'kif1b' 'madd' 'ap1g1' 'asap1b'\n",
      " 'src' 'reln']\n"
     ]
    },
    {
     "name": "stderr",
     "output_type": "stream",
     "text": [
      "(13102544, 12)\n",
      "(11104766, 12)\n",
      "Groupping data\n"
     ]
    },
    {
     "name": "stdout",
     "output_type": "stream",
     "text": [
      "(11104766, 12)\n",
      "['gli3' 'cdon' 'evi5b' 'shank3a' 'vdac3' 'apbb1' 'shank3b' 'gli2b'\n",
      " 'mef2ca' 'itsn1' 'vav2' 'vti1a' 'kif1b' 'madd' 'ap1g1' 'asap1b' 'src'\n",
      " 'reln']\n"
     ]
    }
   ],
   "source": [
    "data_path_group_vars = \"/home/pacorofe/Dropbox (CRG ADV)/ZFISH_MICs/_BSocial/2022_ANALYSIS_social/generated_tables/tr_group_vars_bl.pkl\"\n",
    "\n",
    "data_filters = [\n",
    "    lambda x: x[\"experiment_type\"] == 1,\n",
    "    lambda x: ~x[\"gene\"].str.contains(\"srrm\"),\n",
    "]\n",
    "per_group_stasts_kwargs = {\n",
    "    \"groupby\": [\n",
    "        \"trial_uid\",\n",
    "        \"genotype_group\",\n",
    "        \"line\",\n",
    "        \"line_replicate\",\n",
    "    ],\n",
    "    \"agg_rule\": mean_agg_rule_tr_group,\n",
    "}\n",
    "data_group, data_group_stats = _get_data(\n",
    "    data_path_group_vars,\n",
    "    data_filters=data_filters,\n",
    "    per_indiv_stats_kwargs=per_group_stasts_kwargs,  \n",
    ")"
   ]
  },
  {
   "cell_type": "code",
   "execution_count": 9,
   "metadata": {},
   "outputs": [],
   "source": [
    "def _prepare_group_fig_axes_summary(num_variables):\n",
    "    fig = plt.figure(constrained_layout=True, figsize=(30, 10))\n",
    "    num_cols = num_variables * 3\n",
    "    num_rows = num_variables\n",
    "    gs = GridSpec(num_rows, num_cols, figure=fig)\n",
    "    \n",
    "    ax_order_params = fig.add_subplot(gs[:num_rows, :num_rows])\n",
    "    axs_variables = []\n",
    "    axs_distributions = []\n",
    "    for i in range(num_variables):\n",
    "        axs_variables.append(fig.add_subplot(gs[i:i+1, num_rows:num_cols-1]))\n",
    "        axs_distributions.append(fig.add_subplot(gs[i:i+1, num_cols-1:]))\n",
    "    return fig, ax_order_params, axs_variables, axs_distributions\n",
    "\n",
    "\n",
    "def plot_order_parameter_dist(data, ax=None):\n",
    "    x_var = 'rotation_order_parameter'\n",
    "    y_var = 'polarization_order_parameter'\n",
    "    if ax is None:\n",
    "        fig, ax = plt.subplots(1,1, figsize=(10,10))\n",
    "    assert x_var in data \n",
    "    assert y_var in data\n",
    "    sns.histplot(ax=ax, data=data, x=x_var, y=y_var)\n",
    "    ax.set_aspect('auto')\n",
    "    ax.set_ylabel(y_var)\n",
    "    ax.set_xlabel(x_var)\n",
    "    sns.despine(ax=ax)\n",
    "    \n",
    "    \n",
    "def _plot_group_variables_summary(data, variables):\n",
    "    fig, ax_order_params, axs_variables, axs_distributions = _prepare_group_fig_axes_summary(len(variables))\n",
    "    plot_order_parameter_dist(data, ax=ax_order_params)\n",
    "    for variable, ax_time, ax_dist in zip(variables, axs_variables, axs_distributions):\n",
    "        plot_variable_along_time(data, variable, ax=ax_time)\n",
    "        plot_variable_1d_distribution(data, variable, ax=ax_dist)\n",
    "    return fig"
   ]
  },
  {
   "cell_type": "code",
   "execution_count": 10,
   "metadata": {},
   "outputs": [
    {
     "name": "stderr",
     "output_type": "stream",
     "text": [
      "Getting data\n",
      "Filtering data\n",
      "Filtering data\n",
      "original shape (26492917, 28)\n"
     ]
    },
    {
     "name": "stdout",
     "output_type": "stream",
     "text": [
      "['gli3' 'cdon' 'srrm3' 'evi5b' 'shank3a' 'vdac3' 'apbb1' 'shank3b' 'gli2b'\n",
      " 'srrm4' 'mef2ca' 'itsn1' 'vav2' 'vti1a' 'kif1b' 'madd' 'ap1g1' 'asap1b'\n",
      " 'src' 'reln']\n"
     ]
    },
    {
     "name": "stderr",
     "output_type": "stream",
     "text": [
      "(26204949, 28)\n",
      "(22209394, 28)\n",
      "Groupping data\n"
     ]
    },
    {
     "name": "stdout",
     "output_type": "stream",
     "text": [
      "(22209394, 28)\n",
      "['gli3' 'cdon' 'evi5b' 'shank3a' 'vdac3' 'apbb1' 'shank3b' 'gli2b'\n",
      " 'mef2ca' 'itsn1' 'vav2' 'vti1a' 'kif1b' 'madd' 'ap1g1' 'asap1b' 'src'\n",
      " 'reln']\n"
     ]
    }
   ],
   "source": [
    "data_path_indiv_nb_vars = \"/home/pacorofe/Dropbox (CRG ADV)/ZFISH_MICs/_BSocial/2022_ANALYSIS_social/generated_tables/tr_indiv_nb_vars_bl.pkl\"\n",
    "\n",
    "data_filters = [\n",
    "    lambda x: x[\"experiment_type\"] == 1,\n",
    "    lambda x: ~x[\"gene\"].str.contains(\"srrm\"),\n",
    "]\n",
    "per_group_stasts_kwargs = {\n",
    "    \"groupby\": [\n",
    "        \"trial_uid\",\n",
    "        \"identity\",\n",
    "        \"identity_nb\",\n",
    "        \"genotype_group\",\n",
    "        \"genotype\",\n",
    "        \"genotype_nb\",\n",
    "        \"line\",\n",
    "        \"line_replicate\",\n",
    "    ],\n",
    "    \"agg_rule\": mean_agg_rule_tr_indiv_nb,\n",
    "}\n",
    "data_indiv_nb, data_indiv_nb_stats = _get_data(\n",
    "    data_path_indiv_nb_vars,\n",
    "    data_filters=data_filters,\n",
    "    per_indiv_stats_kwargs=per_group_stasts_kwargs,  \n",
    ")"
   ]
  },
  {
   "cell_type": "code",
   "execution_count": 17,
   "metadata": {},
   "outputs": [],
   "source": [
    "def _prepare_indiv_nb_fig_axes_summary(num_variables):\n",
    "    fig = plt.figure(constrained_layout=True, figsize=(30, 10))\n",
    "    num_cols = num_variables * 3\n",
    "    num_rows = num_variables\n",
    "    gs = GridSpec(num_rows, num_cols, figure=fig)\n",
    "    \n",
    "    ax_relative_position = fig.add_subplot(gs[:num_rows, :num_rows])\n",
    "    axs_variables = []\n",
    "    axs_distributions = []\n",
    "    for i in range(num_variables):\n",
    "        axs_variables.append(fig.add_subplot(gs[i:i+1, num_rows:num_cols-1]))\n",
    "        axs_distributions.append(fig.add_subplot(gs[i:i+1, num_cols-1:]))\n",
    "    return fig, ax_relative_position, axs_variables, axs_distributions\n",
    "\n",
    "\n",
    "def plot_relative_position_dist(data, ax=None):\n",
    "    x_var = 'nb_position_x'\n",
    "    y_var = 'nb_position_y'\n",
    "    if ax is None:\n",
    "        fig, ax = plt.subplots(1,1, figsize=(10,10))\n",
    "    assert x_var in data \n",
    "    assert y_var in data\n",
    "    sns.histplot(ax=ax, data=data, x=x_var, y=y_var, cbar=False, binrange=((-5, 5), (-5, 5)))\n",
    "    ax.set_aspect('equal')\n",
    "    ax.set_ylabel(y_var)\n",
    "    ax.set_xlabel(x_var)\n",
    "    ax.axhline(0, c='k', ls=':')\n",
    "    ax.axvline(0, c='k', ls=':')\n",
    "    sns.despine(ax=ax)\n",
    "\n",
    "\n",
    "def _plot_video_indiv_nb_variables_summary(data, variables):\n",
    "    fig, ax_order_params, axs_variables, axs_distributions = _prepare_indiv_nb_fig_axes_summary(len(variables))\n",
    "    plot_relative_position_dist(data, ax=ax_order_params)\n",
    "    for variable, ax_time, ax_dist in zip(variables, axs_variables, axs_distributions):\n",
    "        plot_variable_along_time(data, variable, ax=ax_time, hue='genotype_nb', units='identity_nb')\n",
    "        plot_variable_1d_distribution(data, variable, ax=ax_dist, hue='genotype_nb')\n",
    "    return fig\n",
    "    "
   ]
  },
  {
   "cell_type": "code",
   "execution_count": 20,
   "metadata": {},
   "outputs": [
    {
     "data": {
      "application/vnd.jupyter.widget-view+json": {
       "model_id": "27056546a80f40cda6e0d5555cf72d37",
       "version_major": 2,
       "version_minor": 0
      },
      "text/plain": [
       "interactive(children=(Dropdown(description='video_uid', options=('ap1g1_1_1_1_1', 'ap1g1_1_1_1_2', 'ap1g1_1_1_…"
      ]
     },
     "metadata": {},
     "output_type": "display_data"
    }
   ],
   "source": [
    "def get_video_info(video_data, video_info_cols = video_info_cols):\n",
    "    video_str_info = _get_info(video_data, video_info_cols)\n",
    "    \n",
    "    animals_uid_ids = video_data[animal_uid_col].unique()\n",
    "    for animal_uid in animals_uid_ids:\n",
    "        animal_data = video_data[video_data[animal_uid_col] == animal_uid]\n",
    "        animal_str_info = _get_info(animal_data, animal_info_cols)\n",
    "        video_str_info += f\"\\n {animal_str_info}\"\n",
    "    return video_str_info\n",
    "\n",
    "possible_video_uids_in_group_vars = data_group[video_uid_col].unique()\n",
    "possible_video_uids_in_indiv_vars = data_indiv[video_uid_col].unique()\n",
    "possible_video_uids_in_indiv_nb_vars = data_indiv_nb[video_uid_col].unique()\n",
    "possible_video_uids = set(possible_video_uids_in_group_vars) & set(possible_video_uids_in_indiv_vars) & set(possible_video_uids_in_indiv_nb_vars)\n",
    "possible_video_uids = natsorted(possible_video_uids)\n",
    "@interact(video_uid=possible_video_uids, y=1.0)\n",
    "def summary_video(video_uid, save=False):\n",
    "    assert video_uid_col in data_group.columns\n",
    "    if video_uid in possible_video_uids:\n",
    "        video_group_data = data_group[data_group[video_uid_col] == video_uid]\n",
    "        video_indiv_data = data_indiv[data_indiv[video_uid_col] == video_uid]\n",
    "        video_indiv_nb_data = data_indiv_nb[data_indiv_nb[video_uid_col] == video_uid]\n",
    "        \n",
    "        print(video_group_data.shape)\n",
    "        print(video_indiv_data.shape)\n",
    "        \n",
    "        video_info_str = get_video_info(video_indiv_data)\n",
    "        print(video_info_str)\n",
    "        fig = _plot_trajectory_and_variables_summary(video_indiv_data, invididual_variables, hue='genotype')\n",
    "        if save:\n",
    "            fig.suptitle(video_info_str)\n",
    "            fig.savefig(f\"{video_uid}_indiv.png\")\n",
    "            fig.savefig(f\"{video_uid}_indiv.pdf\")\n",
    "            \n",
    "        fig = _plot_group_variables_summary(video_group_data, group_variables)\n",
    "        if save:\n",
    "            fig.suptitle(video_info_str)\n",
    "            fig.savefig(f\"{video_uid}_group.png\")\n",
    "            fig.savefig(f\"{video_uid}_group.pdf\")\n",
    "        \n",
    "        for animal_uid in video_indiv_nb_data[animal_uid_col].unique():\n",
    "            animal_nb_data = video_indiv_nb_data[video_indiv_nb_data[animal_uid_col] == animal_uid]\n",
    "            fig = _plot_video_indiv_nb_variables_summary(animal_nb_data, individual_nb_variables)\n",
    "            if save:\n",
    "                fig.suptitle(video_info_str)\n",
    "                fig.savefig(f\"{video_uid}_indiv_nb.png\")\n",
    "                fig.savefig(f\"{video_uid}_indiv_nb.pdf\")\n",
    "            \n",
    "    else:\n",
    "        print(f\"Video {video_uid} does not exist\")\n",
    "        print(\"Possible videos are\")\n",
    "        print(possible_video_uids)"
   ]
  },
  {
   "cell_type": "code",
   "execution_count": 13,
   "metadata": {},
   "outputs": [
    {
     "data": {
      "text/plain": [
       "Index(['identity', 'identity_nb', 'frame', 'nb_position_x', 'nb_position_y',\n",
       "       'nb_angle', 'nb_cos_angle', 'nb_distance', 'trial_uid', 'fish_id_exp',\n",
       "       'genotype', 'dpf', 'size_cm', 'fish_id_exp_nb', 'genotype_nb', 'dpf_nb',\n",
       "       'size_cm_nb', 'line', 'line_replicate', 'gene', 'founder', 'replicate',\n",
       "       'experiment_type', 'genotype_group', 'genotype_group_genotype',\n",
       "       'trial_uid_id', 'genotype_group_genotype_nb', 'trial_uid_id_nb'],\n",
       "      dtype='object')"
      ]
     },
     "execution_count": 13,
     "metadata": {},
     "output_type": "execute_result"
    }
   ],
   "source": [
    "data_indiv_nb.columns"
   ]
  },
  {
   "cell_type": "markdown",
   "metadata": {},
   "source": []
  }
 ],
 "metadata": {
  "interpreter": {
   "hash": "ee5f94f73d9a285083cc4157e10c41f6d227f888b6fc0c8a99d986f15356966b"
  },
  "kernelspec": {
   "display_name": "Python 3.7.11 ('irimialab')",
   "language": "python",
   "name": "python3"
  },
  "language_info": {
   "codemirror_mode": {
    "name": "ipython",
    "version": 3
   },
   "file_extension": ".py",
   "mimetype": "text/x-python",
   "name": "python",
   "nbconvert_exporter": "python",
   "pygments_lexer": "ipython3",
   "version": "3.7.11"
  },
  "orig_nbformat": 4
 },
 "nbformat": 4,
 "nbformat_minor": 2
}
