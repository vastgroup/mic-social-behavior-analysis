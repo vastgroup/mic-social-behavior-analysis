{
 "cells": [
  {
   "cell_type": "code",
   "execution_count": 12,
   "metadata": {
    "ExecuteTime": {
     "end_time": "2022-06-05T11:56:24.964085Z",
     "start_time": "2022-06-05T11:56:24.875982Z"
    }
   },
   "outputs": [
    {
     "name": "stdout",
     "output_type": "stream",
     "text": [
      "The blackcellmagic extension is already loaded. To reload it, use:\n",
      "  %reload_ext blackcellmagic\n",
      "The autoreload extension is already loaded. To reload it, use:\n",
      "  %reload_ext autoreload\n"
     ]
    }
   ],
   "source": [
    "%load_ext blackcellmagic\n",
    "%load_ext autoreload\n",
    "%autoreload 2"
   ]
  },
  {
   "cell_type": "code",
   "execution_count": 13,
   "metadata": {
    "ExecuteTime": {
     "end_time": "2022-06-05T11:56:26.825354Z",
     "start_time": "2022-06-05T11:56:26.491476Z"
    }
   },
   "outputs": [],
   "source": [
    "import os\n",
    "os.environ[\"DATA_DIR\"]=\"/home/pacorofe/Dropbox (CRG ADV)/ZFISH_MICs/_BSocial/2022_ANALYSIS_social\"\n",
    "\n",
    "from ipywidgets import interact\n",
    "from confapp import conf\n",
    "import pandas as pd\n",
    "import numpy as np\n",
    "\n",
    "from PIL import Image\n",
    "from IPython.display import display\n",
    "from natsort import natsorted\n",
    "\n",
    "from mic_analysis.plot_interactive import display_partition_figures, get_possible_variables, get_possible_outliers, visualize_outlier, visualize_video"
   ]
  },
  {
   "cell_type": "code",
   "execution_count": 14,
   "metadata": {
    "ExecuteTime": {
     "end_time": "2022-06-05T11:56:28.545862Z",
     "start_time": "2022-06-05T11:56:28.529745Z"
    }
   },
   "outputs": [
    {
     "name": "stdout",
     "output_type": "stream",
     "text": [
      "/home/pacorofe/Dropbox (CRG ADV)/ZFISH_MICs/_BSocial/2022_ANALYSIS_social\n"
     ]
    }
   ],
   "source": [
    "print(os.environ[\"DATA_DIR\"])"
   ]
  },
  {
   "cell_type": "code",
   "execution_count": 15,
   "metadata": {},
   "outputs": [],
   "source": [
    "DATE = \"20220727\"\n",
    "STAT = \"mean\""
   ]
  },
  {
   "cell_type": "markdown",
   "metadata": {},
   "source": [
    "# Visualize pre-plotted figures"
   ]
  },
  {
   "cell_type": "code",
   "execution_count": 16,
   "metadata": {
    "ExecuteTime": {
     "end_time": "2022-06-05T11:57:20.625336Z",
     "start_time": "2022-06-05T11:57:18.555314Z"
    }
   },
   "outputs": [
    {
     "data": {
      "application/vnd.jupyter.widget-view+json": {
       "model_id": "033fba96e6b5435ba20a3d43a669444f",
       "version_major": 2,
       "version_minor": 0
      },
      "text/plain": [
       "interactive(children=(Dropdown(description='partition_uid', options=('ap1g1_1_1', 'apbb1_1_1', 'asap1b_7_1', '…"
      ]
     },
     "metadata": {},
     "output_type": "display_data"
    }
   ],
   "source": [
    "videos_table = pd.read_csv(conf.VIDEOS_INDEX_FILE_NAME)\n",
    "\n",
    "partition_col = \"line_experiment\"\n",
    "video_uid_col = \"trial_uid\"\n",
    "\n",
    "\n",
    "possible_partition_uids = natsorted(videos_table[partition_col].unique())\n",
    "\n",
    "save_path = os.path.join(conf.GENERATED_FIGURES_PATH, f\"summary_{partition_col}_{DATE}_{STAT}\")\n",
    "if not os.path.isdir(save_path):\n",
    "    os.makedirs(save_path)\n",
    "    \n",
    "per_video_load_path = os.path.join(conf.GENERATED_FIGURES_PATH, f\"summary_per_video_{partition_col}_{DATE}\")\n",
    "\n",
    "\n",
    "@interact(\n",
    "    partition_uid=possible_partition_uids,\n",
    "    var_type=[\"indiv\", \"group\", \"indiv_nb\"],\n",
    "    visualize_outliers=False,\n",
    "    visualize_videos=False,\n",
    ")\n",
    "def summary_partition(\n",
    "    partition_uid=\"ap1g1_1_1\", \n",
    "    var_type=\"indiv\", \n",
    "):\n",
    "\n",
    "    load_path = os.path.join(save_path, partition_uid)\n",
    "    videos_summary_figs_path = os.path.join(per_video_load_path, f\"{partition_uid}\")\n",
    "    \n",
    "    display_partition_figures(load_path, var_type)\n",
    "    \n",
    "    \n",
    "    \n",
    "    partition_videos = videos_table[(videos_table[partition_col] == partition_uid) & videos_table.valid_for_analysis]\n",
    "    genotype_groups = partition_videos.genotype_group.unique()\n",
    "    @interact(genotype_group=genotype_groups)\n",
    "    def select_genotype(genotype_group):\n",
    "        genotype_videos = partition_videos[partition_videos.genotype_group == genotype_group]\n",
    "        partition_genotype_videos_uids = genotype_videos.trial_uid.unique()\n",
    "        \n",
    "        @interact(video_uid=partition_genotype_videos_uids)\n",
    "        def show_video(video_uid):\n",
    "            visualize_video(\n",
    "                videos_summary_figs_path, videos_table, video_uid_col, video_uid, var_type\n",
    "            )\n",
    "\n",
    "            outliers_path = os.path.join(load_path, \"all_outliers.csv\")\n",
    "            if os.path.isfile(outliers_path):\n",
    "                outliers = pd.read_csv(outliers_path)\n",
    "                outliers_per_variable_type = outliers[outliers.var_type == var_type]\n",
    "                variables = get_possible_variables(outliers_per_variable_type)\n",
    "                \n",
    "\n",
    "                @interact(variable=variables)\n",
    "                def show_variable(variable):\n",
    "                    outliers_uids = get_possible_outliers(outliers_per_variable_type, variable, video_uid_col)\n",
    "\n",
    "                    @interact(outlier=outliers_uids)\n",
    "                    def plot_outlier_var(outlier):\n",
    "                        visualize_outlier(\n",
    "                            outliers_per_variable_type, outlier, videos_summary_figs_path, variable, video_uid_col\n",
    "                        )\n"
   ]
  },
  {
   "cell_type": "code",
   "execution_count": null,
   "metadata": {},
   "outputs": [],
   "source": []
  }
 ],
 "metadata": {
  "interpreter": {
   "hash": "ee5f94f73d9a285083cc4157e10c41f6d227f888b6fc0c8a99d986f15356966b"
  },
  "kernelspec": {
   "display_name": "Python 3 (ipykernel)",
   "language": "python",
   "name": "python3"
  },
  "language_info": {
   "codemirror_mode": {
    "name": "ipython",
    "version": 3
   },
   "file_extension": ".py",
   "mimetype": "text/x-python",
   "name": "python",
   "nbconvert_exporter": "python",
   "pygments_lexer": "ipython3",
   "version": "3.7.12"
  },
  "toc": {
   "base_numbering": 1,
   "nav_menu": {},
   "number_sections": true,
   "sideBar": true,
   "skip_h1_title": false,
   "title_cell": "Table of Contents",
   "title_sidebar": "Contents",
   "toc_cell": false,
   "toc_position": {},
   "toc_section_display": true,
   "toc_window_display": false
  },
  "varInspector": {
   "cols": {
    "lenName": 16,
    "lenType": 16,
    "lenVar": 40
   },
   "kernels_config": {
    "python": {
     "delete_cmd_postfix": "",
     "delete_cmd_prefix": "del ",
     "library": "var_list.py",
     "varRefreshCmd": "print(var_dic_list())"
    },
    "r": {
     "delete_cmd_postfix": ") ",
     "delete_cmd_prefix": "rm(",
     "library": "var_list.r",
     "varRefreshCmd": "cat(var_dic_list()) "
    }
   },
   "types_to_exclude": [
    "module",
    "function",
    "builtin_function_or_method",
    "instance",
    "_Feature"
   ],
   "window_display": false
  }
 },
 "nbformat": 4,
 "nbformat_minor": 2
}
