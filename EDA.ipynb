{
 "cells": [
  {
   "cell_type": "code",
   "execution_count": 42,
   "metadata": {
    "ExecuteTime": {
     "end_time": "2022-03-01T15:14:50.264767Z",
     "start_time": "2022-03-01T15:14:50.243062Z"
    }
   },
   "outputs": [
    {
     "name": "stdout",
     "output_type": "stream",
     "text": [
      "The blackcellmagic extension is already loaded. To reload it, use:\n",
      "  %reload_ext blackcellmagic\n",
      "The autoreload extension is already loaded. To reload it, use:\n",
      "  %reload_ext autoreload\n"
     ]
    }
   ],
   "source": [
    "%load_ext blackcellmagic\n",
    "%load_ext autoreload\n",
    "%autoreload 2"
   ]
  },
  {
   "cell_type": "code",
   "execution_count": null,
   "metadata": {},
   "outputs": [],
   "source": [
    "# !python scripts/mic_2_generate_animals_index.py\n",
    "# !python scripts/mic_3_generate_trajectories_index.py\n",
    "# !python scripts/mic_4_generate_master_videos_table.py \n",
    "# !python scripts/mic_5_plot_tracking_sanity_check.py\n",
    "# !python scripts/mic_6_generate_tr_datasets.py\n",
    "# !python scripts/mic_7_plot_summary_figures.py"
   ]
  },
  {
   "cell_type": "code",
   "execution_count": 45,
   "metadata": {
    "ExecuteTime": {
     "end_time": "2022-03-01T15:14:52.040131Z",
     "start_time": "2022-03-01T15:14:52.028067Z"
    }
   },
   "outputs": [],
   "source": [
    "import os\n",
    "\n",
    "from ipywidgets import interact\n",
    "from confapp import conf\n",
    "import pandas as pd\n",
    "import numpy as np\n",
    "\n",
    "from PIL import Image\n",
    "from IPython.display import display\n",
    "from natsort import natsorted\n",
    "\n",
    "from mic_analysis.plot_interactive import display_partition_figures, get_possible_variables, get_possible_outliers, visualize_outlier"
   ]
  },
  {
   "cell_type": "markdown",
   "metadata": {},
   "source": [
    "# Visualize pre-plotted figures"
   ]
  },
  {
   "cell_type": "code",
   "execution_count": 46,
   "metadata": {},
   "outputs": [
    {
     "data": {
      "application/vnd.jupyter.widget-view+json": {
       "model_id": "5c4c033008784b2f86ad87b01708bebe",
       "version_major": 2,
       "version_minor": 0
      },
      "text/plain": [
       "interactive(children=(Dropdown(description='partition_uid', options=('ap1g1_1_1', 'apbb1_1_1', 'asap1b_7_1', '…"
      ]
     },
     "metadata": {},
     "output_type": "display_data"
    }
   ],
   "source": [
    "videos_table = pd.read_csv(conf.VIDEOS_INDEX_FILE_NAME)\n",
    "\n",
    "partition_col = \"line_experiment\"\n",
    "video_uid_col='trial_uid'\n",
    "\n",
    "possible_partition_uids = natsorted(\n",
    "    videos_table[partition_col].unique()\n",
    ")\n",
    "\n",
    "save_path = os.path.join(\n",
    "    conf.GENERATED_FIGURES_PATH, f\"summary_{partition_col}\"\n",
    ")\n",
    "if not os.path.isdir(save_path):\n",
    "    os.makedirs(save_path)\n",
    "    \n",
    "    \n",
    "@interact(partition_uid=possible_partition_uids, var_type=['indiv', 'group', 'indiv_nb'], visualize_outliers=False)\n",
    "def summary_partition(partition_uid='ap1g1_1_1', var_type='indiv', visualize_outliers=False):\n",
    "    \n",
    "    load_path = os.path.join(save_path, partition_uid)\n",
    "    display_partition_figures(load_path, var_type)\n",
    "        \n",
    "    if visualize_outliers:   \n",
    "        outliers_path = os.path.join(load_path, \"all_outliers.csv\")\n",
    "        if os.path.isfile(outliers_path):\n",
    "            outliers = pd.read_csv(outliers_path)\n",
    "            outliers_fig_path = os.path.join(load_path, \"outliers_summaries\")\n",
    "            variables = get_possible_variables(outliers)\n",
    "                        \n",
    "            @interact(variable=variables)\n",
    "            def show_variable(variable):         \n",
    "                outliers_uids = get_possible_outliers(outliers, variable, video_uid_col)\n",
    "                \n",
    "                @interact(outlier=outliers_uids)\n",
    "                def plot_outlier_var(outlier):\n",
    "                    visualize_outlier(outliers, outlier, outliers_fig_path, variable, video_uid_col)\n",
    "        "
   ]
  },
  {
   "cell_type": "code",
   "execution_count": null,
   "metadata": {},
   "outputs": [],
   "source": []
  }
 ],
 "metadata": {
  "interpreter": {
   "hash": "ee5f94f73d9a285083cc4157e10c41f6d227f888b6fc0c8a99d986f15356966b"
  },
  "kernelspec": {
   "display_name": "Python 3 (ipykernel)",
   "language": "python",
   "name": "python3"
  },
  "language_info": {
   "codemirror_mode": {
    "name": "ipython",
    "version": 3
   },
   "file_extension": ".py",
   "mimetype": "text/x-python",
   "name": "python",
   "nbconvert_exporter": "python",
   "pygments_lexer": "ipython3",
   "version": "3.7.12"
  },
  "toc": {
   "base_numbering": 1,
   "nav_menu": {},
   "number_sections": true,
   "sideBar": true,
   "skip_h1_title": false,
   "title_cell": "Table of Contents",
   "title_sidebar": "Contents",
   "toc_cell": false,
   "toc_position": {},
   "toc_section_display": true,
   "toc_window_display": false
  },
  "varInspector": {
   "cols": {
    "lenName": 16,
    "lenType": 16,
    "lenVar": 40
   },
   "kernels_config": {
    "python": {
     "delete_cmd_postfix": "",
     "delete_cmd_prefix": "del ",
     "library": "var_list.py",
     "varRefreshCmd": "print(var_dic_list())"
    },
    "r": {
     "delete_cmd_postfix": ") ",
     "delete_cmd_prefix": "rm(",
     "library": "var_list.r",
     "varRefreshCmd": "cat(var_dic_list()) "
    }
   },
   "types_to_exclude": [
    "module",
    "function",
    "builtin_function_or_method",
    "instance",
    "_Feature"
   ],
   "window_display": false
  }
 },
 "nbformat": 4,
 "nbformat_minor": 2
}
